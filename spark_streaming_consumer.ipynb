{
 "cells": [
  {
   "cell_type": "code",
   "execution_count": null,
   "metadata": {},
   "outputs": [],
   "source": [
    "from pyspark.sql import SparkSession\n",
    "from pyspark.sql.functions import *\n",
    "from pyspark.sql.types import *\n",
    "\n",
    "# Movie Lens Recomondation System\n",
    "\n",
    "KAFKA_TOPIC_NAME_CONS = \"movielence\"\n",
    "KAFKA_OUTPUT_TOPIC_NAME_CONS = \"outputtopic\"\n",
    "KAFKA_BOOTSTRAP_SERVERS_CONS = '192.168.99.100:9092'\n",
    "\n",
    "if __name__ == \"__main__\":\n",
    "    print(\"PySpark Structured Streaming with Kafka Application Started ...\")\n",
    "\n",
    "    spark = SparkSession \\\n",
    "        .builder \\\n",
    "        .appName(\"PySpark Structured Streaming with Kafka Demo\") \\\n",
    "        .config(\"spark.jars\", \"spark-sql-kafka-0-10_2.12-3.0.0-preview.jar,kafka-clients-2.4.1.jar\") \\\n",
    "        .config(\"spark.executor.extraClassPath\", \"spark-sql-kafka-0-10_2.12-3.0.0-preview.jar,kafka-clients-2.4.1.jar\") \\\n",
    "        .config(\"spark.executor.extraLibrary\", \"spark-sql-kafka-0-10_2.12-3.0.0-preview.jar,kafka-clients-2.4.1.jar\") \\\n",
    "        .config(\"spark.driver.extraClassPath\", \"spark-sql-kafka-0-10_2.12-3.0.0-preview.jar,kafka-clients-2.4.1.jar\") \\\n",
    "        .getOrCreate()\n",
    "\n",
    "    spark.sparkContext.setLogLevel(\"ERROR\")\n",
    "    print(\" kafka Started ...\")\n",
    "    # Construct a streaming DataFrame that reads from testtopic\n",
    "    transaction_detail_df = spark \\\n",
    "        .readStream \\\n",
    "        .format(\"kafka\") \\\n",
    "        .option(\"kafka.bootstrap.servers\", KAFKA_BOOTSTRAP_SERVERS_CONS) \\\n",
    "        .option(\"subscribe\", KAFKA_TOPIC_NAME_CONS) \\\n",
    "        .option(\"startingOffsets\", \"latest\") \\\n",
    "        .load()\n",
    "\n",
    "    print(\"Printing Schema of transaction_detail_df: \")\n",
    "    transaction_detail_df.printSchema()\n",
    "    # Write final result into console for debugging purpose\n",
    "    trans_detail_write_stream = transaction_detail_df \\\n",
    "        .writeStream \\\n",
    "        .trigger(processingTime='1 seconds') \\\n",
    "        .outputMode(\"update\") \\\n",
    "        .option(\"truncate\", \"false\")\\\n",
    "        .format(\"console\") \\\n",
    "        .start()\n",
    "    trans_detail_write_stream.awaitTermination()\n",
    "    spark.stop()"
   ]
  }
 ],
 "metadata": {
  "kernelspec": {
   "display_name": "Python 3",
   "language": "python",
   "name": "python3"
  },
  "language_info": {
   "codemirror_mode": {
    "name": "ipython",
    "version": 3
   },
   "file_extension": ".py",
   "mimetype": "text/x-python",
   "name": "python",
   "nbconvert_exporter": "python",
   "pygments_lexer": "ipython3",
   "version": "3.7.6"
  }
 },
 "nbformat": 4,
 "nbformat_minor": 4
}
